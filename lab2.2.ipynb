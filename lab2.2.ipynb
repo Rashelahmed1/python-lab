{
 "cells": [
  {
   "cell_type": "markdown",
   "metadata": {},
   "source": [
    "# creating calculator class"
   ]
  },
  {
   "cell_type": "code",
   "execution_count": 1,
   "metadata": {},
   "outputs": [],
   "source": [
    "class BasicCalculator:\n",
    "    \n",
    "    def add(self, x: float, y: float) -> float:\n",
    "        return x + y\n",
    "\n",
    "    def subtract(self, x: float, y: float) -> float:\n",
    "        return x - y\n",
    "\n",
    "    def multiply(self, x: float, y: float) -> float:\n",
    "        return x * y\n",
    "\n",
    "    def divide(self, x: float, y: float) -> float:\n",
    "        if y == 0:\n",
    "            raise ValueError(\"Cannot divide by zero.\")\n",
    "        return x / y\n",
    "  \n",
    "\n"
   ]
  },
  {
   "cell_type": "code",
   "execution_count": 3,
   "metadata": {},
   "outputs": [
    {
     "name": "stdout",
     "output_type": "stream",
     "text": [
      "3\n"
     ]
    }
   ],
   "source": [
    "x = BasicCalculator()\n",
    "result = x.add(1, 2)\n",
    "print(result)"
   ]
  },
  {
   "cell_type": "code",
   "execution_count": 1,
   "metadata": {},
   "outputs": [],
   "source": [
    "class BasicCalculator:\n",
    "    \n",
    "    def add(self, x: float, y: float) -> float:\n",
    "        return x + y\n",
    "\n",
    "    def subtract(self, x: float, y: float) -> float:\n",
    "        return x - y\n",
    "\n",
    "    def multiply(self, x: float, y: float) -> float:\n",
    "        return x * y\n",
    "\n",
    "    def divide(self, x: float, y: float) -> float:\n",
    "        if y == 0:\n",
    "            raise ValueError(\"Cannot divide by zero.\")\n",
    "        return x / y\n",
    "  \n",
    "\n"
   ]
  },
  {
   "cell_type": "code",
   "execution_count": 15,
   "metadata": {},
   "outputs": [],
   "source": [
    "import math\n",
    "\n",
    "class ScientificCalculator:\n",
    "    PI: float = 3.14159  # Shared constant for all instances double PI = 3.1416 = >PI:float = 3.1416 \n",
    "\n",
    "    def __init__(self): # def __init__ means Constructor\n",
    "        self.__holdValue = 0.0  # Private attribute for memory storage\n",
    "\n",
    "    def exp(self, x: float) -> float: # Return type should be mentioned after def with arrow symbol\n",
    "        return 0 # math.exp(x)  # e^x\n",
    "\n",
    "    def log(self, x: float) -> float:\n",
    "        if x <= 0:\n",
    "            raise ValueError(\"Logarithm undefined for non-positive numbers.\")\n",
    "        return 0 # math.log(x)  # ln(x)\n",
    "\n",
    "    def putValueInMemory(self, x: float) -> None:\n",
    "        self.__holdValue = x  # Store value in memory\n",
    "\n",
    "    def getValueFromMemory(self) -> float:\n",
    "        return self.__holdValue  # Retrieve value from memory"
   ]
  },
  {
   "cell_type": "code",
   "execution_count": 16,
   "metadata": {},
   "outputs": [],
   "source": [
    "\n",
    "import math\n",
    "\n",
    "class TrigonometricCalculator:\n",
    "    \n",
    "    def sine(self, x: float) -> float:\n",
    "        return 0 #math.sin(x)\n",
    "\n",
    "    def cosine(self, x: float) -> float:\n",
    "        return 0 # math.cos(x)\n",
    "\n",
    "    def tangent(self, x: float) -> float:\n",
    "        return 0 #math.tan(x)\n",
    "\n",
    "    def arcsine(self, x: float) -> float:\n",
    "        if x < -1 or x > 1:\n",
    "            raise ValueError(\"Input for arcsin must be between -1 and 1.\")\n",
    "        return 0 # math.asin(x)\n",
    "\n",
    "    def arccosine(self, x: float) -> float:\n",
    "        if x < -1 or x > 1:\n",
    "            raise ValueError(\"Input for arccos must be between -1 and 1.\")\n",
    "        return 0 # math.acos(x)\n",
    "\n",
    "    def arctangent(self, x: float) -> float:\n",
    "        return 0# math.atan(x)\n"
   ]
  }
 ],
 "metadata": {
  "kernelspec": {
   "display_name": "Python 3",
   "language": "python",
   "name": "python3"
  },
  "language_info": {
   "codemirror_mode": {
    "name": "ipython",
    "version": 3
   },
   "file_extension": ".py",
   "mimetype": "text/x-python",
   "name": "python",
   "nbconvert_exporter": "python",
   "pygments_lexer": "ipython3",
   "version": "3.12.4"
  }
 },
 "nbformat": 4,
 "nbformat_minor": 2
}
