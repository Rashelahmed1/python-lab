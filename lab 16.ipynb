{
 "cells": [
  {
   "cell_type": "markdown",
   "metadata": {},
   "source": [
    "# Input, Output and Exceptions"
   ]
  },
  {
   "cell_type": "code",
   "execution_count": 2,
   "metadata": {},
   "outputs": [
    {
     "name": "stdout",
     "output_type": "stream",
     "text": [
      "Book Titles in Inventory:\n",
      "COBOL for Java Programmers\n",
      "3D Game Programming for the IPod\n"
     ]
    }
   ],
   "source": [
    "import os\n",
    "\n",
    "class Book:\n",
    "    def __init__(self, title, author, price, quantity=5, publisher=None, category=\"NON-FICTION\"):\n",
    "        self.title = title\n",
    "        self.author = author\n",
    "        self.price = price\n",
    "        self.quantity = quantity\n",
    "        self.publisher = publisher\n",
    "        self.category = category\n",
    "\n",
    "    def __str__(self):\n",
    "        return f\"Title: {self.title}, Author: {self.author}, Price: {self.price}, Quantity: {self.quantity}, Category: {self.category}\"\n",
    "\n",
    "class BookExerciser:\n",
    "    @staticmethod\n",
    "    def read_books_from_file(file_name):\n",
    "        books = []\n",
    "        try:\n",
    "            with open(file_name, 'r') as file:\n",
    "                lines = file.readlines()\n",
    "                i = 0\n",
    "                while i < len(lines):\n",
    "                    try:\n",
    "                        title = lines[i].strip()\n",
    "                        author = lines[i + 1].strip()\n",
    "                        price = float(lines[i + 2].strip())\n",
    "                        book = Book(title, author, price)\n",
    "                        books.append(book)\n",
    "                        i += 3\n",
    "                    except (IndexError, ValueError) as e:\n",
    "                        print(f\"Error parsing book data at line {i + 1}: {e}\")\n",
    "                        break\n",
    "        except FileNotFoundError:\n",
    "            print(f\"File {file_name} not found.\")\n",
    "        except Exception as e:\n",
    "            print(f\"An error occurred: {e}\")\n",
    "        return books\n",
    "\n",
    "if __name__ == \"__main__\":\n",
    "    # Set the location of the file\n",
    "    location = os.path.join(os.getcwd(), \"books.txt\")\n",
    "\n",
    "    # Call read_books_from_file to read books\n",
    "    books = BookExerciser.read_books_from_file(location)\n",
    "\n",
    "    # Print book titles\n",
    "    print(\"Book Titles in Inventory:\")\n",
    "    for book in books:\n",
    "        print(book.title)\n"
   ]
  },
  {
   "cell_type": "markdown",
   "metadata": {},
   "source": []
  }
 ],
 "metadata": {
  "kernelspec": {
   "display_name": "Python 3",
   "language": "python",
   "name": "python3"
  },
  "language_info": {
   "codemirror_mode": {
    "name": "ipython",
    "version": 3
   },
   "file_extension": ".py",
   "mimetype": "text/x-python",
   "name": "python",
   "nbconvert_exporter": "python",
   "pygments_lexer": "ipython3",
   "version": "3.12.4"
  }
 },
 "nbformat": 4,
 "nbformat_minor": 2
}
