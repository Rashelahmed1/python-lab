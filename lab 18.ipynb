{
 "cells": [
  {
   "cell_type": "markdown",
   "metadata": {},
   "source": [
    "# Annotations"
   ]
  },
  {
   "cell_type": "code",
   "execution_count": 2,
   "metadata": {},
   "outputs": [
    {
     "name": "stdout",
     "output_type": "stream",
     "text": [
      "Hello, World!\n"
     ]
    }
   ],
   "source": [
    "import warnings\n",
    "\n",
    "# Suppress all warnings\n",
    "warnings.filterwarnings(\"ignore\")\n",
    "\n",
    "# A function with unused variable warning\n",
    "def my_method():\n",
    "    x = 10  # Unused variable\n",
    "    print(\"Hello, World!\")\n",
    "\n",
    "my_method()\n",
    "\n",
    "# Remove the suppression of all warnings and suppress only specific ones.\n",
    "warnings.filterwarnings(\"ignore\", category=UserWarning)\n"
   ]
  },
  {
   "cell_type": "code",
   "execution_count": 3,
   "metadata": {},
   "outputs": [
    {
     "name": "stdout",
     "output_type": "stream",
     "text": [
      "True\n"
     ]
    }
   ],
   "source": [
    "def document_it(func):\n",
    "    \"\"\"\n",
    "    Custom decorator to mimic an annotation that adds documentation\n",
    "    \"\"\"\n",
    "    func._is_documented = True\n",
    "    return func\n",
    "\n",
    "@document_it\n",
    "def example_function():\n",
    "    \"\"\"This function prints Hello, World!\"\"\"\n",
    "    print(\"Hello, World!\")\n",
    "\n",
    "print(example_function._is_documented)  # This mimics whether the function has been annotated.\n"
   ]
  },
  {
   "cell_type": "code",
   "execution_count": 4,
   "metadata": {},
   "outputs": [
    {
     "name": "stdout",
     "output_type": "stream",
     "text": [
      "Help on function my_function in module __main__:\n",
      "\n",
      "my_function(param)\n",
      "    This function adds 5 to the given parameter.\n",
      "    :param param: The number to add to.\n",
      "    :return: The sum of param + 5\n",
      "\n"
     ]
    }
   ],
   "source": [
    "def my_function(param):\n",
    "    \"\"\"\n",
    "    This function adds 5 to the given parameter.\n",
    "    :param param: The number to add to.\n",
    "    :return: The sum of param + 5\n",
    "    \"\"\"\n",
    "    return param + 5\n",
    "\n",
    "help(my_function)  # This will show the docstring as part of the help output.\n"
   ]
  },
  {
   "cell_type": "code",
   "execution_count": 5,
   "metadata": {},
   "outputs": [],
   "source": [
    "def restrict_to_methods(cls):\n",
    "    for name, method in cls.__dict__.items():\n",
    "        if callable(method):\n",
    "            setattr(cls, name, method)  # You can modify behavior here\n",
    "    return cls\n",
    "\n",
    "@restrict_to_methods\n",
    "class MyClass:\n",
    "    def method1(self):\n",
    "        print(\"Method 1\")\n",
    "    def method2(self):\n",
    "        print(\"Method 2\")\n"
   ]
  }
 ],
 "metadata": {
  "kernelspec": {
   "display_name": "Python 3",
   "language": "python",
   "name": "python3"
  },
  "language_info": {
   "codemirror_mode": {
    "name": "ipython",
    "version": 3
   },
   "file_extension": ".py",
   "mimetype": "text/x-python",
   "name": "python",
   "nbconvert_exporter": "python",
   "pygments_lexer": "ipython3",
   "version": "3.12.4"
  }
 },
 "nbformat": 4,
 "nbformat_minor": 2
}
