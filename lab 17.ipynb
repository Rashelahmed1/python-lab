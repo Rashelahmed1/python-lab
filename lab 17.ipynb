{
 "cells": [
  {
   "cell_type": "markdown",
   "metadata": {},
   "source": [
    "# Create the enum"
   ]
  },
  {
   "cell_type": "code",
   "execution_count": 1,
   "metadata": {},
   "outputs": [
    {
     "name": "stdout",
     "output_type": "stream",
     "text": [
      "Front Left is 32 pounds\n",
      "Front Right is 32 pounds\n",
      "Rear Left is 30 pounds\n",
      "Rear Right is 32 pounds\n",
      "\n",
      "After overriding pressure for the rear right tire:\n",
      "Front Left is 32 pounds\n",
      "Front Right is 32 pounds\n",
      "Rear Left is 30 pounds\n",
      "Rear Right is 22 pounds\n"
     ]
    }
   ],
   "source": [
    "from enum import Enum\n",
    "\n",
    "# Step 1: Create the Enum class\n",
    "class TirePressures(Enum):\n",
    "    FRONT_LEFT = (32, 'Front Left')\n",
    "    FRONT_RIGHT = (32, 'Front Right')\n",
    "    REAR_LEFT = (30, 'Rear Left')\n",
    "    REAR_RIGHT = (32, 'Rear Right')\n",
    "\n",
    "    def __init__(self, pressure, name):\n",
    "        self._pressure = pressure\n",
    "        self._name = name\n",
    "\n",
    "    def get_pressure(self):\n",
    "        return self._pressure\n",
    "\n",
    "    def get_name(self):\n",
    "        return self._name\n",
    "\n",
    "    # Method to override the pressure\n",
    "    def override_pressure(self, pressure):\n",
    "        self._pressure = pressure\n",
    "\n",
    "# Step 2: Create a driver class to test the Enum\n",
    "class PrintEnums:\n",
    "    @staticmethod\n",
    "    def main():\n",
    "        # Print all tire pressures\n",
    "        for tp in TirePressures:\n",
    "            print(f\"{tp.get_name()} is {tp.get_pressure()} pounds\")\n",
    "\n",
    "        # Step 3: Modify the pressure for the REAR_RIGHT tire\n",
    "        rear_right_tire = TirePressures.REAR_RIGHT\n",
    "        rear_right_tire.override_pressure(22)\n",
    "\n",
    "        # Step 4: Print the updated tire pressures\n",
    "        print(\"\\nAfter overriding pressure for the rear right tire:\")\n",
    "        for tp in TirePressures:\n",
    "            print(f\"{tp.get_name()} is {tp.get_pressure()} pounds\")\n",
    "\n",
    "# Run the driver class\n",
    "if __name__ == \"__main__\":\n",
    "    PrintEnums.main()\n"
   ]
  }
 ],
 "metadata": {
  "kernelspec": {
   "display_name": "Python 3",
   "language": "python",
   "name": "python3"
  },
  "language_info": {
   "codemirror_mode": {
    "name": "ipython",
    "version": 3
   },
   "file_extension": ".py",
   "mimetype": "text/x-python",
   "name": "python",
   "nbconvert_exporter": "python",
   "pygments_lexer": "ipython3",
   "version": "3.12.4"
  }
 },
 "nbformat": 4,
 "nbformat_minor": 2
}
