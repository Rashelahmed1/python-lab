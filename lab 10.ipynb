{
 "cells": [
  {
   "cell_type": "markdown",
   "metadata": {},
   "source": [
    "# Extending the inventory system. "
   ]
  },
  {
   "cell_type": "code",
   "execution_count": 2,
   "metadata": {},
   "outputs": [],
   "source": [
    "# Step 1: Define the Item superclass\n",
    "class Item:\n",
    "    def __init__(self, title, price, quantity):\n",
    "        self.title = title\n",
    "        self.price = price\n",
    "        self.quantity = quantity\n"
   ]
  },
  {
   "cell_type": "code",
   "execution_count": 3,
   "metadata": {},
   "outputs": [],
   "source": [
    "\n",
    "# Step 2: Define the ClassicalCD subclass\n",
    "class ClassicalCD(Item):\n",
    "    def __init__(self, title, price, quantity, composer, performers, location, release_date):\n",
    "        super().__init__(title, price, quantity)\n",
    "        self.composer = composer\n",
    "        self.performers = []\n",
    "        self.location = location\n",
    "        self.release_date = release_date\n",
    "\n",
    "        # Step 3: Add performers using the addPerformer method\n",
    "        for performer in performers:\n",
    "            self.add_performer(performer)\n",
    "\n",
    "    def add_performer(self, performer):\n",
    "        if len(self.performers) < 10:  # Assuming a max limit of 10 performers\n",
    "            self.performers.append(performer)\n"
   ]
  },
  {
   "cell_type": "code",
   "execution_count": 4,
   "metadata": {},
   "outputs": [],
   "source": [
    "\n",
    "# Step 4-6: Define the Inventory class with the produceReport method\n",
    "class Inventory:\n",
    "    @staticmethod\n",
    "    def produce_report(items):\n",
    "        print(f\"{'Title':<20} {'Price':<10} {'Quantity':<10}\")\n",
    "        print(\"=\" * 40)\n",
    "        total_value = 0\n",
    "        total_count = 0\n",
    "\n",
    "        for item in items:\n",
    "            item_value = item.price * item.quantity\n",
    "            print(f\"{item.title:<20} ${item.price:<10.2f} {item.quantity:<10}\")\n",
    "            total_value += item_value\n",
    "            total_count += item.quantity\n",
    "\n",
    "        print(\"=\" * 40)\n",
    "        print(f\"Total Items: {total_count}\")\n",
    "        print(f\"Total Value: ${total_value:.2f}\")\n"
   ]
  },
  {
   "cell_type": "code",
   "execution_count": 5,
   "metadata": {},
   "outputs": [
    {
     "name": "stdout",
     "output_type": "stream",
     "text": [
      "Title                Price      Quantity  \n",
      "========================================\n",
      "Classical Hits       $19.99      5         \n",
      "Mozart Collection    $24.99      3         \n",
      "========================================\n",
      "Total Items: 8\n",
      "Total Value: $174.92\n"
     ]
    }
   ],
   "source": [
    "\n",
    "# Step 7: Create an InventoryDriver class to test the implementation\n",
    "class InventoryDriver:\n",
    "    @staticmethod\n",
    "    def main():\n",
    "        # Create ClassicalCD instances with example data\n",
    "        performers_cd1 = [\"Performer A\", \"Performer B\"]\n",
    "        cd1 = ClassicalCD(\"Classical Hits\", 19.99, 5, \"Composer X\", performers_cd1, \"Aisle 3\", \"2024-01-15\")\n",
    "\n",
    "        performers_cd2 = [\"Performer C\", \"Performer D\"]\n",
    "        cd2 = ClassicalCD(\"Mozart Collection\", 24.99, 3, \"Mozart\", performers_cd2, \"Aisle 5\", \"2023-12-10\")\n",
    "\n",
    "        # Step 7: Call the produceReport method with an array of items\n",
    "        items = [cd1, cd2]\n",
    "        Inventory.produce_report(items)\n",
    "\n",
    "# Run the main method to execute the test\n",
    "InventoryDriver.main()\n"
   ]
  }
 ],
 "metadata": {
  "kernelspec": {
   "display_name": "Python 3",
   "language": "python",
   "name": "python3"
  },
  "language_info": {
   "codemirror_mode": {
    "name": "ipython",
    "version": 3
   },
   "file_extension": ".py",
   "mimetype": "text/x-python",
   "name": "python",
   "nbconvert_exporter": "python",
   "pygments_lexer": "ipython3",
   "version": "3.12.4"
  }
 },
 "nbformat": 4,
 "nbformat_minor": 2
}
