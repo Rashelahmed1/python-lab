{
 "cells": [
  {
   "cell_type": "markdown",
   "metadata": {},
   "source": [
    "# Polymorphism in Action"
   ]
  },
  {
   "cell_type": "code",
   "execution_count": 2,
   "metadata": {},
   "outputs": [],
   "source": [
    "from abc import ABC, abstractmethod\n",
    "\n",
    "# Base Shape class\n",
    "class Shape(ABC):\n",
    "    def __init__(self, name, color):\n",
    "        self.name = name\n",
    "        self.color = color\n",
    "    \n",
    "    @abstractmethod\n",
    "    def toString(self):\n",
    "        pass\n",
    "\n"
   ]
  },
  {
   "cell_type": "code",
   "execution_count": 3,
   "metadata": {},
   "outputs": [],
   "source": [
    "\n",
    "# Rectangle class\n",
    "class Rectangle(Shape):\n",
    "    def __init__(self, name, color, width, height):\n",
    "        super().__init__(name, color)\n",
    "        self.width = width\n",
    "        self.height = height\n",
    "    \n",
    "    def toString(self):\n",
    "        return f\"Rectangle [Name: {self.name}, Color: {self.color}, Width: {self.width}, Height: {self.height}]\"\n"
   ]
  },
  {
   "cell_type": "code",
   "execution_count": 4,
   "metadata": {},
   "outputs": [],
   "source": [
    "\n",
    "# Square class (inherits from Rectangle)\n",
    "class Square(Rectangle):\n",
    "    def __init__(self, name, color, side):\n",
    "        super().__init__(name, color, side, side)\n",
    "    \n",
    "    def toString(self):\n",
    "        return f\"Square [Name: {self.name}, Color: {self.color}, Side: {self.width}]\"\n"
   ]
  },
  {
   "cell_type": "code",
   "execution_count": 5,
   "metadata": {},
   "outputs": [],
   "source": [
    "\n",
    "# Circle class\n",
    "class Circle(Shape):\n",
    "    def __init__(self, name, color, radius):\n",
    "        super().__init__(name, color)\n",
    "        self.radius = radius\n",
    "    \n",
    "    def toString(self):\n",
    "        return f\"Circle [Name: {self.name}, Color: {self.color}, Radius: {self.radius}]\"\n"
   ]
  },
  {
   "cell_type": "code",
   "execution_count": 6,
   "metadata": {},
   "outputs": [],
   "source": [
    "\n",
    "# Box class (inherits from Shape)\n",
    "class Box(Shape):\n",
    "    def __init__(self, name, color, width, height, depth):\n",
    "        super().__init__(name, color)\n",
    "        self.width = width\n",
    "        self.height = height\n",
    "        self.depth = depth\n",
    "    \n",
    "    def toString(self):\n",
    "        return f\"Box [Name: {self.name}, Color: {self.color}, Width: {self.width}, Height: {self.height}, Depth: {self.depth}]\"\n"
   ]
  },
  {
   "cell_type": "code",
   "execution_count": 7,
   "metadata": {},
   "outputs": [],
   "source": [
    "\n",
    "# Cube class (inherits from Box)\n",
    "class Cube(Box):\n",
    "    def __init__(self, name, color, side):\n",
    "        super().__init__(name, color, side, side, side)\n",
    "    \n",
    "    def toString(self):\n",
    "        return f\"Cube [Name: {self.name}, Color: {self.color}, Side: {self.width}]\"\n"
   ]
  },
  {
   "cell_type": "code",
   "execution_count": 8,
   "metadata": {},
   "outputs": [
    {
     "name": "stdout",
     "output_type": "stream",
     "text": [
      "Rectangle [Name: Rectangle1, Color: Red, Width: 4, Height: 5]\n",
      "Square [Name: Square1, Color: Blue, Side: 4]\n",
      "Circle [Name: Circle1, Color: Green, Radius: 3]\n",
      "Box [Name: Box1, Color: Yellow, Width: 2, Height: 3, Depth: 4]\n",
      "Cube [Name: Cube1, Color: Purple, Side: 3]\n"
     ]
    }
   ],
   "source": [
    "\n",
    "# Main program to test polymorphism\n",
    "def main():\n",
    "    # Create a list of Shape objects\n",
    "    shapes = [\n",
    "        Rectangle(\"Rectangle1\", \"Red\", 4, 5),\n",
    "        Square(\"Square1\", \"Blue\", 4),\n",
    "        Circle(\"Circle1\", \"Green\", 3),\n",
    "        Box(\"Box1\", \"Yellow\", 2, 3, 4),\n",
    "        Cube(\"Cube1\", \"Purple\", 3)\n",
    "    ]\n",
    "    \n",
    "    # Iterate over the shapes and print their toString() representation\n",
    "    for shape in shapes:\n",
    "        print(shape.toString())\n",
    "\n",
    "# Run the program\n",
    "if __name__ == \"__main__\":\n",
    "    main()"
   ]
  },
  {
   "cell_type": "code",
   "execution_count": null,
   "metadata": {},
   "outputs": [],
   "source": []
  }
 ],
 "metadata": {
  "kernelspec": {
   "display_name": "Python 3",
   "language": "python",
   "name": "python3"
  },
  "language_info": {
   "codemirror_mode": {
    "name": "ipython",
    "version": 3
   },
   "file_extension": ".py",
   "mimetype": "text/x-python",
   "name": "python",
   "nbconvert_exporter": "python",
   "pygments_lexer": "ipython3",
   "version": "3.12.4"
  }
 },
 "nbformat": 4,
 "nbformat_minor": 2
}
