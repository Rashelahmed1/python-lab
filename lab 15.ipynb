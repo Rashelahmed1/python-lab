{
 "cells": [
  {
   "cell_type": "markdown",
   "metadata": {},
   "source": [
    "# Throwing Exceptions"
   ]
  },
  {
   "cell_type": "code",
   "execution_count": 1,
   "metadata": {},
   "outputs": [
    {
     "name": "stdout",
     "output_type": "stream",
     "text": [
      "Running with temperature 110:\n",
      "Coffee temperature: 110\n",
      "\n",
      "Running with temperature 125:\n",
      "Exception caught: The coffee temperature is too hot!\n",
      "Coffee temperature: 0\n"
     ]
    }
   ],
   "source": [
    "# Exercise 1: Creating an Exception\n",
    "\n",
    "# Step 1: Define the TooHotException class\n",
    "class TooHotException(Exception):\n",
    "    def __init__(self, message=\"Coffee is too hot!\"):\n",
    "        super().__init__(message)\n",
    "\n",
    "# Step 2-4: Define the Coffee class\n",
    "class Coffee:\n",
    "    def __init__(self, temperature=0):\n",
    "        self.temperature = temperature\n",
    "\n",
    "    def set_temperature(self, temperature):\n",
    "        if temperature > 120:\n",
    "            raise TooHotException(\"The coffee temperature is too hot!\")\n",
    "        self.temperature = temperature\n",
    "\n",
    "    def get_temperature(self):\n",
    "        return self.temperature\n",
    "\n",
    "# Step 5-7: Define the CoffeeExerciser class\n",
    "class CoffeeExerciser:\n",
    "    @staticmethod\n",
    "    def main():\n",
    "        coffee = None  # Initialize to avoid potential NullPointerException-like issues\n",
    "        try:\n",
    "            coffee = Coffee()\n",
    "            coffee.set_temperature(110)  # Set initial temperature\n",
    "        except TooHotException as e:\n",
    "            print(f\"Exception caught: {e}\")\n",
    "        finally:\n",
    "            if coffee:\n",
    "                print(f\"Coffee temperature: {coffee.get_temperature()}\")  # Will print 0 if coffee isn't initialized properly\n",
    "            else:\n",
    "                print(\"Coffee temperature: 0\")  # Default fallback value if coffee is None\n",
    "\n",
    "# Test the main method\n",
    "if __name__ == \"__main__\":\n",
    "    print(\"Running with temperature 110:\")\n",
    "    CoffeeExerciser.main()\n",
    "\n",
    "    print(\"\\nRunning with temperature 125:\")\n",
    "    try:\n",
    "        coffee = Coffee()\n",
    "        coffee.set_temperature(125)  # This should trigger TooHotException\n",
    "    except TooHotException as e:\n",
    "        print(f\"Exception caught: {e}\")\n",
    "    finally:\n",
    "        print(\"Coffee temperature: 0\")  # Safeguard against uninitialized coffee instance\n"
   ]
  }
 ],
 "metadata": {
  "kernelspec": {
   "display_name": "Python 3",
   "language": "python",
   "name": "python3"
  },
  "language_info": {
   "codemirror_mode": {
    "name": "ipython",
    "version": 3
   },
   "file_extension": ".py",
   "mimetype": "text/x-python",
   "name": "python",
   "nbconvert_exporter": "python",
   "pygments_lexer": "ipython3",
   "version": "3.12.4"
  }
 },
 "nbformat": 4,
 "nbformat_minor": 2
}
