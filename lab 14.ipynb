{
 "cells": [
  {
   "cell_type": "markdown",
   "metadata": {},
   "source": [
    "# Collections "
   ]
  },
  {
   "cell_type": "markdown",
   "metadata": {},
   "source": []
  },
  {
   "cell_type": "code",
   "execution_count": 3,
   "metadata": {},
   "outputs": [],
   "source": [
    "from sortedcontainers import SortedSet\n",
    "\n",
    "class Artist:\n",
    "    def __init__(self):\n",
    "        # SortedSet for memberNames (ensures sorting)\n",
    "        self.memberNames = SortedSet()\n",
    "        \n",
    "        # TreeMap equivalent in Python is a dictionary of SortedSets\n",
    "        self.memberInstruments = {}\n",
    "\n",
    "    def addMember(self, name: str, instruments: list):\n",
    "        self.memberNames.add(name)\n",
    "        # Adding instruments to a SortedSet for each member\n",
    "        self.memberInstruments[name] = SortedSet(instruments)\n",
    "\n",
    "    def getMembers(self):\n",
    "        return self.memberNames\n",
    "\n",
    "    def getInstruments(self, memberName: str):\n",
    "        return self.memberInstruments.get(memberName, SortedSet())\n"
   ]
  },
  {
   "cell_type": "code",
   "execution_count": 4,
   "metadata": {},
   "outputs": [
    {
     "name": "stdout",
     "output_type": "stream",
     "text": [
      "Member: Steve\n",
      " - Drums\n",
      " - Guitar\n",
      " - Violin\n",
      "Member: Tom\n",
      " - Clarinet\n",
      " - Hurdy Gurdy\n",
      " - Piano\n",
      " - Tuba\n"
     ]
    }
   ],
   "source": [
    "def printMemberInstruments(artist: Artist, memberName: str):\n",
    "    instruments = artist.getInstruments(memberName)\n",
    "    print(f\"Member: {memberName}\")\n",
    "    for instrument in instruments:\n",
    "        print(f\" - {instrument}\")\n",
    "\n",
    "class ArtistExerciser:\n",
    "    def main(self):\n",
    "        hotPlate = Artist()\n",
    "\n",
    "        # Add instruments for Tom\n",
    "        instruments1 = SortedSet([\"Piano\", \"Clarinet\", \"Hurdy Gurdy\", \"Tuba\"])\n",
    "        hotPlate.addMember(\"Tom\", instruments1)\n",
    "\n",
    "        # Add instruments for Steve\n",
    "        instruments2 = SortedSet([\"Guitar\", \"Drums\", \"Violin\"])\n",
    "        hotPlate.addMember(\"Steve\", instruments2)\n",
    "\n",
    "        # Print out all members and their instruments\n",
    "        for member in hotPlate.getMembers():\n",
    "            printMemberInstruments(hotPlate, member)\n",
    "\n",
    "# Running the test\n",
    "if __name__ == \"__main__\":\n",
    "    exerciser = ArtistExerciser()\n",
    "    exerciser.main()\n"
   ]
  }
 ],
 "metadata": {
  "kernelspec": {
   "display_name": "Python 3",
   "language": "python",
   "name": "python3"
  },
  "language_info": {
   "codemirror_mode": {
    "name": "ipython",
    "version": 3
   },
   "file_extension": ".py",
   "mimetype": "text/x-python",
   "name": "python",
   "nbconvert_exporter": "python",
   "pygments_lexer": "ipython3",
   "version": "3.12.4"
  }
 },
 "nbformat": 4,
 "nbformat_minor": 2
}
