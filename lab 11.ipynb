{
 "cells": [
  {
   "cell_type": "markdown",
   "metadata": {},
   "source": [
    "# Working with interfaces"
   ]
  },
  {
   "cell_type": "markdown",
   "metadata": {},
   "source": []
  },
  {
   "cell_type": "code",
   "execution_count": 2,
   "metadata": {},
   "outputs": [],
   "source": [
    "from abc import ABC, abstractmethod\n",
    "\n",
    "class Shape(ABC):\n",
    "    def __init__(self, name=\"Unknown\", color=\"White\"):\n",
    "        self.name = name\n",
    "        self.color = color\n",
    "\n",
    "    def get_name(self):\n",
    "        return self.name\n",
    "\n",
    "    def set_name(self, name):\n",
    "        self.name = name\n",
    "\n",
    "    def get_color(self):\n",
    "        return self.color\n",
    "\n",
    "    def set_color(self, color):\n",
    "        self.color = color\n"
   ]
  },
  {
   "cell_type": "code",
   "execution_count": 3,
   "metadata": {},
   "outputs": [],
   "source": [
    "class Box(Shape):\n",
    "    def __init__(self, name=\"Box\", color=\"White\", length=1, width=1, height=1):\n",
    "        super().__init__(name, color)\n",
    "        self.length = length\n",
    "        self.width = width\n",
    "        self.height = height\n",
    "\n",
    "    def get_volume(self):\n",
    "        return self.length * self.width * self.height\n",
    "\n",
    "    def get_surface_area(self):\n",
    "        return 2 * (self.length * self.width + self.width * self.height + self.height * self.length)\n"
   ]
  },
  {
   "cell_type": "code",
   "execution_count": 4,
   "metadata": {},
   "outputs": [],
   "source": [
    "class Rectangle(Shape):\n",
    "    def __init__(self, name=\"Rectangle\", color=\"White\", length=1, width=1):\n",
    "        super().__init__(name, color)\n",
    "        self.length = length\n",
    "        self.width = width\n",
    "\n",
    "    def get_area(self):\n",
    "        return self.length * self.width\n",
    "\n",
    "    def get_perimeter(self):\n",
    "        return 2 * (self.length + self.width)\n"
   ]
  },
  {
   "cell_type": "code",
   "execution_count": 5,
   "metadata": {},
   "outputs": [],
   "source": [
    "class Square(Rectangle):\n",
    "    def __init__(self, name=\"Square\", color=\"White\", side_length=1):\n",
    "        super().__init__(name, color, side_length, side_length)\n"
   ]
  },
  {
   "cell_type": "code",
   "execution_count": 6,
   "metadata": {},
   "outputs": [],
   "source": [
    "from abc import ABC, abstractmethod\n",
    "\n",
    "class ThreeDimensional(ABC):\n",
    "    @abstractmethod\n",
    "    def get_volume(self):\n",
    "        pass\n",
    "\n",
    "    @abstractmethod\n",
    "    def get_surface_area(self):\n",
    "        pass\n"
   ]
  },
  {
   "cell_type": "code",
   "execution_count": 7,
   "metadata": {},
   "outputs": [],
   "source": [
    "from abc import ABC, abstractmethod\n",
    "\n",
    "class TwoDimensional(ABC):\n",
    "    @abstractmethod\n",
    "    def get_area(self):\n",
    "        pass\n",
    "\n",
    "    @abstractmethod\n",
    "    def get_perimeter(self):\n",
    "        pass\n"
   ]
  },
  {
   "cell_type": "code",
   "execution_count": 8,
   "metadata": {},
   "outputs": [],
   "source": [
    "import math\n",
    "\n",
    "class Circle(Shape, TwoDimensional):\n",
    "    def __init__(self, name=\"Circle\", color=\"White\", radius=1):\n",
    "        super().__init__(name, color)\n",
    "        self.radius = radius\n",
    "\n",
    "    def get_area(self):\n",
    "        return math.pi * self.radius ** 2\n",
    "\n",
    "    def get_perimeter(self):\n",
    "        return 2 * math.pi * self.radius\n"
   ]
  },
  {
   "cell_type": "code",
   "execution_count": 9,
   "metadata": {},
   "outputs": [
    {
     "name": "stdout",
     "output_type": "stream",
     "text": [
      "Rect1 has color: Blue\n",
      "Rect2 has color: Blue\n",
      "Square1 has color: Blue\n",
      "Square2 has color: Blue\n",
      "Box1 has color: Blue\n",
      "Box2 has color: Blue\n",
      "Circle1 has color: Blue\n",
      "Circle2 has color: Blue\n",
      "\n",
      "3D shapes volume and surface area:\n",
      "\n",
      "2D shapes area and perimeter:\n",
      "Circle1 area: 28.274333882308138 perimeter: 18.84955592153876\n",
      "Circle2 area: 50.26548245743669 perimeter: 25.132741228718345\n"
     ]
    }
   ],
   "source": [
    "def test_shapes():\n",
    "    # Create an array of 8 Shape objects\n",
    "    shapes = [\n",
    "        Rectangle(name=\"Rect1\", color=\"Red\", length=4, width=5),\n",
    "        Rectangle(name=\"Rect2\", color=\"Blue\", length=6, width=7),\n",
    "        Square(name=\"Square1\", color=\"Green\", side_length=3),\n",
    "        Square(name=\"Square2\", color=\"Yellow\", side_length=2),\n",
    "        Box(name=\"Box1\", color=\"Purple\", length=3, width=3, height=3),\n",
    "        Box(name=\"Box2\", color=\"Orange\", length=2, width=4, height=5),\n",
    "        Circle(name=\"Circle1\", color=\"Pink\", radius=3),\n",
    "        Circle(name=\"Circle2\", color=\"Brown\", radius=4)\n",
    "    ]\n",
    "\n",
    "    # Test setColor() and getColor() for each shape\n",
    "    for shape in shapes:\n",
    "        shape.set_color(\"Blue\")\n",
    "        print(f\"{shape.get_name()} has color: {shape.get_color()}\")\n",
    "\n",
    "    # Test getVolume() and getSurfaceArea() for 3D shapes\n",
    "    print(\"\\n3D shapes volume and surface area:\")\n",
    "    for shape in shapes:\n",
    "        if isinstance(shape, ThreeDimensional):\n",
    "            print(f\"{shape.get_name()} volume: {shape.get_volume()} surface area: {shape.get_surface_area()}\")\n",
    "\n",
    "    # Test getArea() and getPerimeter() for 2D shapes\n",
    "    print(\"\\n2D shapes area and perimeter:\")\n",
    "    for shape in shapes:\n",
    "        if isinstance(shape, TwoDimensional):\n",
    "            print(f\"{shape.get_name()} area: {shape.get_area()} perimeter: {shape.get_perimeter()}\")\n",
    "\n",
    "# Run the tests\n",
    "test_shapes()\n"
   ]
  }
 ],
 "metadata": {
  "kernelspec": {
   "display_name": "Python 3",
   "language": "python",
   "name": "python3"
  },
  "language_info": {
   "codemirror_mode": {
    "name": "ipython",
    "version": 3
   },
   "file_extension": ".py",
   "mimetype": "text/x-python",
   "name": "python",
   "nbconvert_exporter": "python",
   "pygments_lexer": "ipython3",
   "version": "3.12.4"
  }
 },
 "nbformat": 4,
 "nbformat_minor": 2
}
