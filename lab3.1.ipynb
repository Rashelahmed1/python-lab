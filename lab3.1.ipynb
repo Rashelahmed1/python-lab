{
 "cells": [
  {
   "cell_type": "markdown",
   "metadata": {},
   "source": [
    "# creating objects"
   ]
  },
  {
   "cell_type": "code",
   "execution_count": 8,
   "metadata": {},
   "outputs": [],
   "source": [
    "class Box :\n",
    "    def __init__(self,height, width, length):\n",
    "        self._height = height\n",
    "        self._width = width\n",
    "        self._length = length\n",
    "        \n",
    "    @property\n",
    "    def height(self):\n",
    "        return self._height\n",
    "\n",
    "    @height.setter\n",
    "    def height(self, value):\n",
    "        if value>0:\n",
    "            self._height = value\n",
    "        else:\n",
    "            print(\"Invalid value\")\n",
    "        \n",
    "    @property\n",
    "    def width(self):\n",
    "        return self._width\n",
    "\n",
    "    @width.setter\n",
    "    def width(self, value):\n",
    "        self._width = value\n",
    "        \n",
    "    @property\n",
    "    def length(self):\n",
    "        return self._length\n",
    "\n",
    "    @length.setter\n",
    "    def length(self, value):\n",
    "        if value>0:\n",
    "            self._length = value\n",
    "        else:\n",
    "            print(\"Invalid value\")\n",
    "        \n",
    "        \n",
    "    @classmethod    \n",
    "    def cube(cls, side):\n",
    "        return cls(side, side, side)\n",
    "    \n",
    "    def get_volume(self):\n",
    "       return self._height * self._width * self._length\n",
    "   \n",
    "    def get_surface_area(self):\n",
    "        return 2 * (self._length * self._width) + 2 * (self._length * self._height) + 2 * (self._width * self._height)\n",
    "    \n",
    "    def print_box(self):\n",
    "        if (self._height <= 0 or self._width <= 0 or self._length <= 0):\n",
    "            print(\"The box contains invalid properties.\")\n",
    "        else:\n",
    "            print(f\"Height: {self._height}\")\n",
    "            print(f\"Width: {self._width} \")\n",
    "            print(f\"Length: {self._length}\")\n",
    "            print(f\"Volume: {self.get_volume()}\")\n",
    "            print(f\"Surface Area: {self.get_surface_area()}\")\n",
    "        "
   ]
  },
  {
   "cell_type": "code",
   "execution_count": 9,
   "metadata": {},
   "outputs": [
    {
     "name": "stdout",
     "output_type": "stream",
     "text": [
      "Box1 length is 5\n",
      "Box1 height is 7\n",
      "Box1 width is 6\n",
      "Box2 length is 10\n",
      "Box2 height is 10\n",
      "Box2 width is 10\n"
     ]
    }
   ],
   "source": [
    "# class BoxDriver :\n",
    "box1 = Box(7,6,5)\n",
    "box2 = Box.cube(10)\n",
    "    \n",
    "print(f\"Box1 length is {box1.length}\")\n",
    "print(f\"Box1 height is {box1.height}\")\n",
    "print(f\"Box1 width is {box1.width}\")\n",
    "print(f\"Box2 length is {box2.length}\")\n",
    "print(f\"Box2 height is {box2.height}\")\n",
    "print(f\"Box2 width is {box2.width}\")\n",
    "    \n"
   ]
  },
  {
   "cell_type": "code",
   "execution_count": 10,
   "metadata": {},
   "outputs": [
    {
     "name": "stdout",
     "output_type": "stream",
     "text": [
      "Box1 length is 3\n",
      "Box1 height is 5\n",
      "Box1 width is 4\n",
      "Box1 volume is 60\n",
      "Box1 surfacearea is 94\n"
     ]
    }
   ],
   "source": [
    "box1.length = 3\n",
    "box1.width = 4\n",
    "box1.height = 5\n",
    "\n",
    "print(f\"Box1 length is {box1.length}\")\n",
    "print(f\"Box1 height is {box1.height}\")\n",
    "print(f\"Box1 width is {box1.width}\")\n",
    "\n",
    "print(f\"Box1 volume is {box1.get_volume()}\")\n",
    "print(f\"Box1 surfacearea is {box1.get_surface_area()}\")\n",
    "\n"
   ]
  },
  {
   "cell_type": "code",
   "execution_count": 11,
   "metadata": {},
   "outputs": [
    {
     "name": "stdout",
     "output_type": "stream",
     "text": [
      "Height: 5\n",
      "Width: 4 \n",
      "Length: 3\n",
      "Volume: 60\n",
      "Surface Area: 94\n"
     ]
    }
   ],
   "source": [
    "box1.print_box()\n"
   ]
  },
  {
   "cell_type": "code",
   "execution_count": 13,
   "metadata": {},
   "outputs": [
    {
     "name": "stdout",
     "output_type": "stream",
     "text": [
      "Invalid value\n",
      "Box1 length is 3\n"
     ]
    }
   ],
   "source": [
    "box1.length = -5\n",
    "print(f\"Box1 length is {box1.length}\")\n"
   ]
  }
 ],
 "metadata": {
  "kernelspec": {
   "display_name": "Python 3",
   "language": "python",
   "name": "python3"
  },
  "language_info": {
   "codemirror_mode": {
    "name": "ipython",
    "version": 3
   },
   "file_extension": ".py",
   "mimetype": "text/x-python",
   "name": "python",
   "nbconvert_exporter": "python",
   "pygments_lexer": "ipython3",
   "version": "3.12.4"
  }
 },
 "nbformat": 4,
 "nbformat_minor": 2
}
