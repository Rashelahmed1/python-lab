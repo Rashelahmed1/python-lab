{
 "cells": [
  {
   "cell_type": "markdown",
   "metadata": {},
   "source": [
    "# control flow"
   ]
  },
  {
   "cell_type": "code",
   "execution_count": 4,
   "metadata": {},
   "outputs": [
    {
     "name": "stdout",
     "output_type": "stream",
     "text": [
      "Sunday\n",
      "Monday\n",
      "Twesday\n",
      "Wednesday\n",
      "Thursday\n",
      "Friday\n",
      "Saturday\n",
      "---------------\n",
      "Sunday\n",
      "Monday\n",
      "Twesday\n",
      "Wednesday\n",
      "Thursday\n",
      "Friday\n",
      "Saturday\n",
      "--------------\n",
      "Saturday\n",
      "Friday\n",
      "Thursday\n",
      "Wednesday\n",
      "Twesday\n",
      "Monday\n",
      "Sunday\n"
     ]
    }
   ],
   "source": [
    "daysOfWeek = [\"Sunday\", \"Monday\",\"Twesday\",\"Wednesday\",\"Thursday\",\"Friday\",\"Saturday\"]\n",
    "\n",
    "\n",
    "for i in range(0,len(daysOfWeek)) :\n",
    "    print(daysOfWeek[i])\n",
    "print(\"---------------\")\n",
    "for i in daysOfWeek :\n",
    "    print(i)\n",
    "print(\"--------------\")\n",
    "for i in range(1,len(daysOfWeek)+1) :\n",
    "    print(daysOfWeek[-i])\n",
    "    \n",
    "\n",
    "\n"
   ]
  },
  {
   "cell_type": "code",
   "execution_count": 5,
   "metadata": {},
   "outputs": [
    {
     "name": "stdout",
     "output_type": "stream",
     "text": [
      "2\n",
      "4\n",
      "6\n",
      "8\n",
      "10\n",
      "12\n",
      "14\n",
      "16\n",
      "18\n",
      "20\n",
      "---------\n",
      "2\n",
      "4\n",
      "6\n",
      "8\n",
      "10\n",
      "12\n",
      "14\n",
      "16\n",
      "18\n",
      "20\n",
      "-----------\n",
      "2\n",
      "4\n",
      "6\n",
      "8\n",
      "10\n",
      "12\n",
      "14\n",
      "16\n",
      "18\n",
      "20\n"
     ]
    }
   ],
   "source": [
    "numbers = [1,2,3,4,5,6,7,8,9,10,11,12,13,14,15,16,17,18,19,20]\n",
    "\n",
    "i = 0\n",
    "while (i < len(numbers)):\n",
    "    if (numbers[i] % 2 == 0):\n",
    "        print(numbers[i])\n",
    "    else:\n",
    "        i = i+1\n",
    "        continue\n",
    "    i = i+1\n",
    "print(\"---------\")    \n",
    "for i in numbers :\n",
    "    if i%2==0 :\n",
    "        print(i)\n",
    "print(\"-----------\")\n",
    "for i in range(1,20+1):\n",
    "    if i%2==0 :\n",
    "        print(i)"
   ]
  },
  {
   "cell_type": "code",
   "execution_count": 6,
   "metadata": {},
   "outputs": [
    {
     "name": "stdout",
     "output_type": "stream",
     "text": [
      "1\n",
      "2\n",
      "3\n",
      "4\n",
      "5\n",
      "6\n",
      "7\n",
      "8\n",
      "9\n",
      "10\n",
      "11\n",
      "12\n",
      "13\n",
      "14\n",
      "15\n",
      "16\n",
      "17\n",
      "18\n",
      "19\n",
      "20\n",
      "21\n",
      "22\n",
      "23\n",
      "24\n",
      "25\n",
      "26\n",
      "27\n",
      "28\n",
      "29\n",
      "30\n",
      "31\n",
      "32\n",
      "33\n",
      "34\n",
      "35\n",
      "36\n",
      "37\n",
      "38\n",
      "39\n",
      "40\n",
      "41\n",
      "42\n",
      "43\n",
      "44\n",
      "45\n",
      "46\n",
      "47\n",
      "48\n",
      "49\n",
      "50\n",
      "60\n",
      "61\n",
      "62\n",
      "63\n",
      "64\n",
      "65\n",
      "66\n",
      "67\n",
      "68\n",
      "69\n",
      "70\n",
      "71\n",
      "72\n",
      "73\n",
      "74\n",
      "75\n",
      "76\n",
      "77\n",
      "78\n",
      "79\n",
      "80\n",
      "81\n",
      "82\n",
      "83\n",
      "84\n",
      "85\n",
      "86\n",
      "87\n",
      "88\n",
      "89\n",
      "90\n",
      "91\n",
      "92\n",
      "93\n",
      "94\n",
      "95\n",
      "96\n",
      "97\n",
      "98\n",
      "99\n",
      "100\n"
     ]
    }
   ],
   "source": [
    "for i in range(1,100+1):\n",
    "    if i <= 50 or i >= 60 :\n",
    "        print(i)"
   ]
  },
  {
   "cell_type": "code",
   "execution_count": 6,
   "metadata": {},
   "outputs": [
    {
     "name": "stdout",
     "output_type": "stream",
     "text": [
      "January\n",
      "March\n",
      "May\n",
      "July\n",
      "August\n",
      "October\n",
      "December\n"
     ]
    }
   ],
   "source": [
    "monthNames = {\n",
    "1 : \"January\",\n",
    "2: \"February\",\n",
    "3 : \"March\", \n",
    "4: \"April\",\n",
    "5: \"May\",\n",
    "6 : \"June\",\n",
    "7: \"July\", \n",
    "8: \"August\",\n",
    "9: \"September\",\n",
    "10: \"October\", \n",
    "11 : \"November\",\n",
    "12:\"December\"  \n",
    "}\n",
    "months = {\n",
    "1 : 31,\n",
    "2 : 28,\n",
    "3 : 31, \n",
    "4 : 30,\n",
    "5 : 31,\n",
    "6 : 30,\n",
    "7 : 31, \n",
    "8 : 31,\n",
    "9 : 30,\n",
    "10 : 31, \n",
    "11 : 30,\n",
    "12:31    \n",
    "}\n",
    "\n",
    "i = 1\n",
    "while i <= 12 :\n",
    "    if (months[i]== 31):\n",
    "        print(monthNames[i])\n",
    "    i = i+1\n",
    "    \n"
   ]
  },
  {
   "cell_type": "code",
   "execution_count": 5,
   "metadata": {},
   "outputs": [
    {
     "name": "stdout",
     "output_type": "stream",
     "text": [
      "30\n"
     ]
    }
   ],
   "source": [
    "x = {\"abir\":30,\n",
    "     \"ashik\":25}\n",
    "\n",
    "print(x[\"abir\"])"
   ]
  },
  {
   "cell_type": "code",
   "execution_count": 27,
   "metadata": {},
   "outputs": [
    {
     "name": "stdout",
     "output_type": "stream",
     "text": [
      "Sun\tMon\tTwe\tWed\tThu\tFri\tSat\t\n",
      " \t \t \t \t \t1\t2\n",
      "3\t4\t5\t6\t7\t8\t9\n",
      "10\t11\t12\t13\t14\t15\t16\n",
      "17\t18\t19\t20\t21\t22\t23\n",
      "24\t25\t26\t27\t28\t29\t30\n",
      "31\t\n"
     ]
    }
   ],
   "source": [
    "days = [\"Sun\",\"Mon\",\"Twe\",\"Wed\",\"Thu\",\"Fri\",\"Sat\"]\n",
    "x = \"\"\n",
    "for i in days :\n",
    "    x = x + i + \"\\t\"\n",
    "    # print(x)\n",
    "print(x)\n",
    "y = \"\"\n",
    "for i in range(-4,32):\n",
    "    if i>0 and (i==2 or i==9 or i==16 or i==23 or i==30):\n",
    "        y = y + str(i) + \"\\n\"\n",
    "    elif i>0:\n",
    "        y = y + str(i) + \"\\t\"\n",
    "    else:\n",
    "        y = y + \" \" + \"\\t\"\n",
    "print(y)\n",
    "        "
   ]
  }
 ],
 "metadata": {
  "kernelspec": {
   "display_name": "Python 3",
   "language": "python",
   "name": "python3"
  },
  "language_info": {
   "codemirror_mode": {
    "name": "ipython",
    "version": 3
   },
   "file_extension": ".py",
   "mimetype": "text/x-python",
   "name": "python",
   "nbconvert_exporter": "python",
   "pygments_lexer": "ipython3",
   "version": "3.12.4"
  }
 },
 "nbformat": 4,
 "nbformat_minor": 2
}
