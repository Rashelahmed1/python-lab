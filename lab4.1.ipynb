{
 "cells": [
  {
   "cell_type": "markdown",
   "metadata": {},
   "source": [
    "# creating calculator objects"
   ]
  },
  {
   "cell_type": "code",
   "execution_count": 5,
   "metadata": {},
   "outputs": [],
   "source": [
    "import math\n",
    "\n",
    "class ScientificCalculator:\n",
    "    PI: float = 3.14159  # Shared constant for all instances double PI = 3.1416 = >PI:float = 3.1416 \n",
    "\n",
    "    def __init__(self): # def __init__ means Constructor\n",
    "        self.__holdValue = 0.0  # Private attribute for memory storage\n",
    "\n",
    "    def exp(self, x: float) -> float: # Return type should be mentioned after def with arrow symbol\n",
    "        return math.exp(x)  # e^x\n",
    "\n",
    "    def log(self, x: float) -> float:\n",
    "        if x <= 0:\n",
    "            raise ValueError(\"Logarithm undefined for non-positive numbers.\")\n",
    "        return math.log(x)  # ln(x)\n",
    "\n",
    "    def putValueInMemory(self, x: float) -> None:\n",
    "        self.__holdValue = x  # Store value in memory\n",
    "\n",
    "    def getValueFromMemory(self) -> float:\n",
    "        return self.__holdValue  # Retrieve value from memory"
   ]
  },
  {
   "cell_type": "code",
   "execution_count": 6,
   "metadata": {},
   "outputs": [],
   "source": [
    "\n",
    "import math\n",
    "\n",
    "class TrigonometricCalculator:\n",
    "    \n",
    "    def sine(self, x: float) -> float:\n",
    "        return math.sin(x)\n",
    "\n",
    "    def cosine(self, x: float) -> float:\n",
    "        return math.cos(x)\n",
    "\n",
    "    def tangent(self, x: float) -> float:\n",
    "        return math.tan(x)\n",
    "\n",
    "    def arcsine(self, x: float) -> float:\n",
    "        if x < -1 or x > 1:\n",
    "            raise ValueError(\"Input for arcsin must be between -1 and 1.\")\n",
    "        return math.asin(x)\n",
    "\n",
    "    def arccosine(self, x: float) -> float:\n",
    "        if x < -1 or x > 1:\n",
    "            raise ValueError(\"Input for arccos must be between -1 and 1.\")\n",
    "        return math.acos(x)\n",
    "\n",
    "    def arctangent(self, x: float) -> float:\n",
    "        return math.atan(x)\n"
   ]
  },
  {
   "cell_type": "code",
   "execution_count": 7,
   "metadata": {},
   "outputs": [
    {
     "name": "stdout",
     "output_type": "stream",
     "text": [
      " Scientific Calculator exp of 1 is 2.718281828459045\n",
      " Scientific Calculator log of 1 is 0.0\n",
      " Trigonometric Calculator sine of 0.1 is 0.09983341664682815\n",
      " Trigonometric Calculator cos of 0.1 is 0.9950041652780258\n",
      " Trigonometric Calculator tan of 0.1 is 0.10033467208545055\n",
      " Trigonometric Calculator asine of 0.1 is 0.1001674211615598\n",
      " Trigonometric Calculator acosine of 0.1 is 1.4706289056333368\n",
      " Trigonometric Calculator atan of 0.1 is 0.09966865249116204\n"
     ]
    }
   ],
   "source": [
    "s1 = ScientificCalculator()\n",
    "t1 = TrigonometricCalculator()\n",
    "\n",
    "print(f\" Scientific Calculator exp of 1 is {s1.exp(1)}\")\n",
    "print(f\" Scientific Calculator log of 1 is {s1.log(1)}\")\n",
    "print(f\" Trigonometric Calculator sine of 0.1 is {t1.sine(0.1)}\")\n",
    "print(f\" Trigonometric Calculator cos of 0.1 is {t1.cosine(0.1)}\")\n",
    "print(f\" Trigonometric Calculator tan of 0.1 is {t1.tangent(0.1)}\")\n",
    "print(f\" Trigonometric Calculator asine of 0.1 is {t1.arcsine(0.1)}\")\n",
    "print(f\" Trigonometric Calculator acosine of 0.1 is {t1.arccosine(0.1)}\")\n",
    "print(f\" Trigonometric Calculator atan of 0.1 is {t1.arctangent(0.1)}\")"
   ]
  }
 ],
 "metadata": {
  "kernelspec": {
   "display_name": "Python 3",
   "language": "python",
   "name": "python3"
  },
  "language_info": {
   "codemirror_mode": {
    "name": "ipython",
    "version": 3
   },
   "file_extension": ".py",
   "mimetype": "text/x-python",
   "name": "python",
   "nbconvert_exporter": "python",
   "pygments_lexer": "ipython3",
   "version": "3.12.4"
  }
 },
 "nbformat": 4,
 "nbformat_minor": 2
}
