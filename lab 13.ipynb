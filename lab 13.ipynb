{
 "cells": [
  {
   "cell_type": "markdown",
   "metadata": {},
   "source": [
    "# Generics"
   ]
  },
  {
   "cell_type": "code",
   "execution_count": 7,
   "metadata": {},
   "outputs": [],
   "source": [
    "from typing import TypeVar, Generic, List, Protocol\n",
    "\n",
    "# -----------------------------------------------\n",
    "# Exercise 1: Creating a Generic Class (GenericBox)\n",
    "# -----------------------------------------------\n",
    "\n",
    "# Define a type variable T (for any type)\n",
    "T = TypeVar('T')\n",
    "\n",
    "class GenericBox(Generic[T]):\n",
    "    def __init__(self, t: T = None):\n",
    "        self._t = t\n",
    "\n",
    "    def get_t(self) -> T:\n",
    "        return self._t\n",
    "\n",
    "    def set_t(self, value: T) -> None:\n",
    "        self._t = value\n",
    "\n",
    "    def __str__(self) -> str:\n",
    "        return f'GenericBox containing: {self._t}'\n",
    "\n",
    "\n"
   ]
  },
  {
   "cell_type": "code",
   "execution_count": 8,
   "metadata": {},
   "outputs": [],
   "source": [
    "\n",
    "# -----------------------------------------------\n",
    "# Exercise 2: Creating a Generic Method (print_array)\n",
    "# -----------------------------------------------\n",
    "\n",
    "def print_array(input_array: List[T]) -> None:\n",
    "    \"\"\"Generic method to print all elements of an array.\"\"\"\n",
    "    for element in input_array:\n",
    "        # Using format specifier %s equivalent in Python with f-string.\n",
    "        print(f\"{element}\", end=\" \")\n",
    "    print()  # for a new line after printing all elements\n",
    "\n"
   ]
  },
  {
   "cell_type": "code",
   "execution_count": 9,
   "metadata": {},
   "outputs": [],
   "source": [
    "\n",
    "# -----------------------------------------------\n",
    "# Exercise 3: Bounded Type Parameter for Maximum Function\n",
    "# -----------------------------------------------\n",
    "# Define a protocol for comparable types (any type that supports < comparison)\n",
    "class Comparable(Protocol):\n",
    "    def __lt__(self: 'Comparable', other: 'Comparable') -> bool:\n",
    "        ...\n",
    "\n",
    "# Define a type variable U that is bounded by Comparable\n",
    "U = TypeVar('U', bound=Comparable)\n",
    "\n",
    "def maximum(a: U, b: U, c: U) -> U:\n",
    "    \"\"\"Return the maximum of three comparable values.\"\"\"\n",
    "    max_val = a\n",
    "    if b > max_val:\n",
    "        max_val = b\n",
    "    if c > max_val:\n",
    "        max_val = c\n",
    "    return max_val\n",
    "\n"
   ]
  },
  {
   "cell_type": "code",
   "execution_count": 10,
   "metadata": {},
   "outputs": [
    {
     "name": "stdout",
     "output_type": "stream",
     "text": [
      "=== GenericBox Exerciser ===\n",
      "Integer Box: 10\n",
      "String Box: Hello World\n",
      "\n",
      "=== Generic Method Exerciser ===\n",
      "Integer Array:\n",
      "1 2 3 4 5 \n",
      "Double Array:\n",
      "1.1 2.2 3.3 4.4 5.5 \n",
      "Character Array:\n",
      "H e l l o \n",
      "\n",
      "=== Maximum Function Exerciser ===\n",
      "The maximum of 10, 20, and 15 is: 20\n",
      "The maximum (lexicographically) of 'apple', 'banana', and 'cherry' is: cherry\n"
     ]
    }
   ],
   "source": [
    "\n",
    "# -----------------------------------------------\n",
    "# Driver Code / Exercisers\n",
    "# -----------------------------------------------\n",
    "\n",
    "def main():\n",
    "    # --- GenericBox Exerciser ---\n",
    "    print(\"=== GenericBox Exerciser ===\")\n",
    "    # Create an instance of GenericBox for an integer\n",
    "    int_box = GenericBox[int]()\n",
    "    int_box.set_t(10)\n",
    "    \n",
    "    # Create an instance of GenericBox for a string\n",
    "    str_box = GenericBox[str]()\n",
    "    str_box.set_t(\"Hello World\")\n",
    "    \n",
    "    # Print the contents of both boxes\n",
    "    print(f\"Integer Box: {int_box.get_t()}\")\n",
    "    print(f\"String Box: {str_box.get_t()}\")\n",
    "    print()\n",
    "\n",
    "    # --- Generic Method Exerciser (print_array) ---\n",
    "    print(\"=== Generic Method Exerciser ===\")\n",
    "    # Define three arrays of different types:\n",
    "    int_array = [1, 2, 3, 4, 5]\n",
    "    double_array = [1.1, 2.2, 3.3, 4.4, 5.5]  # floats in Python\n",
    "    char_array = ['H', 'e', 'l', 'l', 'o']\n",
    "\n",
    "    # Call print_array on each array:\n",
    "    print(\"Integer Array:\")\n",
    "    print_array(int_array)\n",
    "    print(\"Double Array:\")\n",
    "    print_array(double_array)\n",
    "    print(\"Character Array:\")\n",
    "    print_array(char_array)\n",
    "    print()\n",
    "\n",
    "    # --- Maximum Function Exerciser ---\n",
    "    print(\"=== Maximum Function Exerciser ===\")\n",
    "    # For demonstration, use integers (which are comparable) to find the maximum\n",
    "    a, b, c = 10, 20, 15\n",
    "    max_int = maximum(a, b, c)\n",
    "    print(f\"The maximum of {a}, {b}, and {c} is: {max_int}\")\n",
    "\n",
    "    # You can also try with strings (which are compared lexicographically)\n",
    "    x, y, z = \"apple\", \"banana\", \"cherry\"\n",
    "    max_str = maximum(x, y, z)\n",
    "    print(f\"The maximum (lexicographically) of '{x}', '{y}', and '{z}' is: {max_str}\")\n",
    "\n",
    "if __name__ == '__main__':\n",
    "    main()"
   ]
  }
 ],
 "metadata": {
  "kernelspec": {
   "display_name": "Python 3",
   "language": "python",
   "name": "python3"
  },
  "language_info": {
   "codemirror_mode": {
    "name": "ipython",
    "version": 3
   },
   "file_extension": ".py",
   "mimetype": "text/x-python",
   "name": "python",
   "nbconvert_exporter": "python",
   "pygments_lexer": "ipython3",
   "version": "3.12.4"
  }
 },
 "nbformat": 4,
 "nbformat_minor": 2
}
