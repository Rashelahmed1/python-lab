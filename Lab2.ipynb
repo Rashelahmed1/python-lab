{
 "cells": [
  {
   "cell_type": "markdown",
   "metadata": {},
   "source": [
    "# Creating Class"
   ]
  },
  {
   "cell_type": "code",
   "execution_count": null,
   "metadata": {},
   "outputs": [],
   "source": [
    "class Box :\n",
    "    def __init__(self,height, width, length):\n",
    "        self._height = height\n",
    "        self._width = width\n",
    "        self._length = length\n",
    "        \n",
    "    @property\n",
    "    def height(self):\n",
    "        return self._height\n",
    "\n",
    "    @height.setter\n",
    "    def height(self, value):\n",
    "        self._height = value\n",
    "        \n",
    "    @property\n",
    "    def width(self):\n",
    "        return self._width\n",
    "\n",
    "    @width.setter\n",
    "    def width(self, value):\n",
    "        self._width = value\n",
    "        \n",
    "    @property\n",
    "    def length(self):\n",
    "        return self._length\n",
    "\n",
    "    @length.setter\n",
    "    def length(self, value):\n",
    "        self._length = value\n",
    "        \n",
    "    @classmethod    \n",
    "    def cube(cls, side):\n",
    "        return cls(side, side, side)\n",
    "    \n",
    "    def get_volume(self):\n",
    "       return self._height * self._width * self._length\n",
    "   \n",
    "    def get_surface_area(self):\n",
    "        return 2 * (self._length * self._width) + 2 * (self._length * self._height) + 2 * (self._width * self._height)\n",
    "    \n",
    "    def print_box(self):\n",
    "        if (self._height <= 0 or self._width <= 0 or self._length <= 0):\n",
    "            print(\"The box contains invalid properties.\")\n",
    "        else:\n",
    "            print(f\"Height: {self._height}\")\n",
    "            print(f\"Width: {self._width} \")\n",
    "            print(f\"Length: {self._length}\")\n",
    "            print(f\"Volume: {self.get_volume()}\")\n",
    "            print(f\"Surface Area: {self.get_surface_area()}\")\n",
    "        "
   ]
  }
 ],
 "metadata": {
  "kernelspec": {
   "display_name": "Python 3",
   "language": "python",
   "name": "python3"
  },
  "language_info": {
   "name": "python",
   "version": "3.12.4"
  }
 },
 "nbformat": 4,
 "nbformat_minor": 2
}
